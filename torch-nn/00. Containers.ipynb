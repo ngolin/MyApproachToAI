{
 "cells": [
  {
   "cell_type": "markdown",
   "id": "b40efdef",
   "metadata": {},
   "source": [
    "## Containers"
   ]
  },
  {
   "cell_type": "code",
   "execution_count": 1,
   "id": "9622c04c",
   "metadata": {},
   "outputs": [],
   "source": [
    "import torch\n",
    "import torch.nn as nn"
   ]
  },
  {
   "cell_type": "markdown",
   "id": "704ded48",
   "metadata": {},
   "source": [
    "### [Module](https://docs.pytorch.org/docs/stable/generated/torch.nn.Module.html)\n",
    "\n",
    "Base class for all neural network modules.\n"
   ]
  },
  {
   "cell_type": "code",
   "execution_count": 2,
   "id": "bccf0dc9",
   "metadata": {},
   "outputs": [
    {
     "data": {
      "text/plain": [
       "torch.Size([1, 20, 24, 24])"
      ]
     },
     "execution_count": 2,
     "metadata": {},
     "output_type": "execute_result"
    }
   ],
   "source": [
    "class Model(nn.Module):\n",
    "    def __init__(self):\n",
    "        super().__init__()\n",
    "        self.conv1 = nn.Conv2d(1, 20, 5)\n",
    "        self.conv2 = nn.Conv2d(20, 20, 5)\n",
    "        self.relu = nn.ReLU()\n",
    "\n",
    "    def forward(self, x):\n",
    "        x = self.relu(self.conv1(x))\n",
    "        return self.relu(self.conv2(x))\n",
    "\n",
    "\n",
    "Model()(torch.randn(1, 1, 32, 32)).shape"
   ]
  },
  {
   "cell_type": "markdown",
   "id": "01752923",
   "metadata": {},
   "source": [
    "### [Sequential](https://docs.pytorch.org/docs/stable/generated/torch.nn.Sequential.html)\n",
    "\n",
    "A sequential container.\n"
   ]
  },
  {
   "cell_type": "code",
   "execution_count": 3,
   "id": "8d1deb4b",
   "metadata": {},
   "outputs": [
    {
     "data": {
      "text/plain": [
       "torch.Size([1, 64, 24, 24])"
      ]
     },
     "execution_count": 3,
     "metadata": {},
     "output_type": "execute_result"
    }
   ],
   "source": [
    "from collections import OrderedDict\n",
    "\n",
    "model = nn.Sequential(nn.Conv2d(1, 20, 5), nn.ReLU(), nn.Conv2d(20, 64, 5), nn.ReLU())\n",
    "model(torch.randn(1, 1, 32, 32))\n",
    "\n",
    "model = nn.Sequential(\n",
    "    OrderedDict(\n",
    "        conv1=nn.Conv2d(1, 20, 5),\n",
    "        relu1=nn.ReLU(),\n",
    "        conv2=nn.Conv2d(20, 64, 5),\n",
    "        relu2=nn.ReLU(),\n",
    "    )\n",
    ")\n",
    "model(torch.randn(1, 1, 32, 32)).shape"
   ]
  },
  {
   "cell_type": "markdown",
   "id": "6bed7738",
   "metadata": {},
   "source": [
    "### [ModuleList](https://docs.pytorch.org/docs/stable/generated/torch.nn.ModuleList.html)\n",
    "\n",
    "Holds submodules in a list.\n"
   ]
  },
  {
   "cell_type": "code",
   "execution_count": 4,
   "id": "54ce24d2",
   "metadata": {},
   "outputs": [
    {
     "data": {
      "text/plain": [
       "torch.Size([1, 10])"
      ]
     },
     "execution_count": 4,
     "metadata": {},
     "output_type": "execute_result"
    }
   ],
   "source": [
    "class Model(nn.ModuleList):\n",
    "    def __init__(self):\n",
    "        super().__init__(nn.Linear(10, 10) for _ in range(10))\n",
    "\n",
    "    def forward(self, x):\n",
    "        for i, l in enumerate(self):\n",
    "            x = self[i // 2](x) + l(x)\n",
    "        return x\n",
    "\n",
    "\n",
    "Model()(torch.randn(1, 10)).shape"
   ]
  },
  {
   "cell_type": "markdown",
   "id": "ab002bd4",
   "metadata": {},
   "source": [
    "### [ModuleDict](https://docs.pytorch.org/docs/stable/generated/torch.nn.ModuleDict.html)\n",
    "\n",
    "Holds submodules in a dictionary.\n"
   ]
  },
  {
   "cell_type": "code",
   "execution_count": 5,
   "id": "62c85155",
   "metadata": {},
   "outputs": [
    {
     "data": {
      "text/plain": [
       "torch.Size([1, 10, 8, 8])"
      ]
     },
     "execution_count": 5,
     "metadata": {},
     "output_type": "execute_result"
    }
   ],
   "source": [
    "class Model(nn.Module):\n",
    "    def __init__(self):\n",
    "        super().__init__()\n",
    "        self.choices = nn.ModuleDict(\n",
    "            {\"conv\": nn.Conv2d(10, 10, 3), \"pool\": nn.MaxPool2d(3)}\n",
    "        )\n",
    "        self.activations = nn.ModuleDict(\n",
    "            [(\"lrelu\", nn.LeakyReLU()), (\"prelu\", nn.PReLU())]\n",
    "        )\n",
    "\n",
    "    def forward(self, x, choice, act):\n",
    "        x = self.choices[choice](x)\n",
    "        x = self.activations[act](x)\n",
    "        return x\n",
    "\n",
    "\n",
    "Model()(torch.randn(1, 10, 10, 10), \"conv\", \"lrelu\").shape"
   ]
  }
 ],
 "metadata": {
  "kernelspec": {
   "display_name": "base",
   "language": "python",
   "name": "python3"
  },
  "language_info": {
   "codemirror_mode": {
    "name": "ipython",
    "version": 3
   },
   "file_extension": ".py",
   "mimetype": "text/x-python",
   "name": "python",
   "nbconvert_exporter": "python",
   "pygments_lexer": "ipython3",
   "version": "3.13.5"
  }
 },
 "nbformat": 4,
 "nbformat_minor": 5
}
