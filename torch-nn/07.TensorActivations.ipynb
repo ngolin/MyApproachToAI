{
 "cells": [
  {
   "cell_type": "markdown",
   "id": "3481be74",
   "metadata": {},
   "source": [
    "## Tensor Activations\n"
   ]
  },
  {
   "cell_type": "code",
   "execution_count": 1,
   "id": "cdceaf06",
   "metadata": {},
   "outputs": [],
   "source": [
    "import torch\n",
    "import torch.nn as nn\n",
    "import torch.nn.functional as F"
   ]
  },
  {
   "cell_type": "markdown",
   "id": "50647298",
   "metadata": {},
   "source": [
    "### MultiheadAttension"
   ]
  },
  {
   "cell_type": "code",
   "execution_count": 2,
   "id": "f87d312a",
   "metadata": {},
   "outputs": [],
   "source": [
    "# https://docs.pytorch.org/docs/stable/generated/torch.nn.MultiheadAttension.html"
   ]
  },
  {
   "cell_type": "markdown",
   "id": "2ce4c698",
   "metadata": {},
   "source": [
    "### GLU\n"
   ]
  },
  {
   "cell_type": "code",
   "execution_count": 3,
   "id": "e9e737b3",
   "metadata": {},
   "outputs": [],
   "source": [
    "# https://docs.pytorch.org/docs/stable/generated/torch.nn.GLU.html"
   ]
  },
  {
   "cell_type": "markdown",
   "id": "a34d1276",
   "metadata": {},
   "source": [
    "### Softmin\n",
    "\n"
   ]
  },
  {
   "cell_type": "code",
   "execution_count": 4,
   "id": "54683d3b",
   "metadata": {},
   "outputs": [],
   "source": [
    "# https://docs.pytorch.org/docs/stable/generated/torch.nn.Softmin.html"
   ]
  },
  {
   "cell_type": "markdown",
   "id": "075bf01e",
   "metadata": {},
   "source": [
    "### Softmax\n"
   ]
  },
  {
   "cell_type": "code",
   "execution_count": 5,
   "id": "384b4435",
   "metadata": {},
   "outputs": [],
   "source": [
    "# https://docs.pytorch.org/docs/stable/generated/torch.nn.Softmax.html"
   ]
  },
  {
   "cell_type": "markdown",
   "id": "ca8021ab",
   "metadata": {},
   "source": [
    "### Softmax2d"
   ]
  },
  {
   "cell_type": "code",
   "execution_count": 6,
   "id": "8e863b38",
   "metadata": {},
   "outputs": [],
   "source": [
    "# https://docs.pytorch.org/docs/stable/generated/torch.nn.Softmax2d.html"
   ]
  },
  {
   "cell_type": "markdown",
   "id": "f9c80e91",
   "metadata": {},
   "source": [
    "### LogSoftmax\n"
   ]
  },
  {
   "cell_type": "code",
   "execution_count": 7,
   "id": "17da8982",
   "metadata": {},
   "outputs": [],
   "source": [
    "# https://docs.pytorch.org/docs/stable/generated/torch.nn.LogSoftmax.html"
   ]
  },
  {
   "cell_type": "markdown",
   "id": "b5263b7c",
   "metadata": {},
   "source": [
    "### AdaptiveLogSoftmaxWithLoss\n"
   ]
  },
  {
   "cell_type": "code",
   "execution_count": 8,
   "id": "784a8b9f",
   "metadata": {},
   "outputs": [],
   "source": [
    "# https://docs.pytorch.org/docs/stable/generated/torch.nn.AdaptiveLogSoftmaxWithLoss.html"
   ]
  }
 ],
 "metadata": {
  "kernelspec": {
   "display_name": "base",
   "language": "python",
   "name": "python3"
  },
  "language_info": {
   "codemirror_mode": {
    "name": "ipython",
    "version": 3
   },
   "file_extension": ".py",
   "mimetype": "text/x-python",
   "name": "python",
   "nbconvert_exporter": "python",
   "pygments_lexer": "ipython3",
   "version": "3.13.5"
  }
 },
 "nbformat": 4,
 "nbformat_minor": 5
}
